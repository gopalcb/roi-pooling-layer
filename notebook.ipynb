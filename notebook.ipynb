{
 "cells": [
  {
   "cell_type": "markdown",
   "id": "7ae2f64e-5c5f-4af5-b98b-17792f8a38e9",
   "metadata": {},
   "source": [
    "## Region of interest (RoI) pooling layer in Fast RCNN\n",
    "<hr>"
   ]
  },
  {
   "cell_type": "markdown",
   "id": "8b6c9b1a-d016-4833-8e05-18703d72f28d",
   "metadata": {},
   "source": [
    "RoI is a proposed region in an original image. RoI pooling is an operation widely used in object detection tasks using convolutional neural networks.\n",
    "The purpose of RoI pooling operation is to obtain fixed-size (7 x 7) feature maps by performing max pooling operation on the inputs of nonuniform sizes.\n",
    "\n",
    "The region proposal stage finds all possible places where objects can be located and generates output as a list of bounding boxes. Each bounding box describes the position of an object in the image. One of the popular algorithms of generating region proposal or region of interest is called Region proposal network (RPN). The RPN algorithm is explained in this <a href=\"\">article</a>.\n",
    "\n",
    "The RoI pooling layer takes two inputs:\n",
    "1. A fixed-size feature map obtained from a deep convolutional network, for example VGG16.\n",
    "2. An N x 5 matrix of representing a list of RoIs, where N is a number of RoIs. The first column represents the image index and the remaining four are the coordinates of the top left and bottom right corners of the region.\n",
    "\n",
    "The following diagram shows the Fast RCNN architecture that contains the highlighted RoI pooling layer.\n",
    "\n",
    "<img class=\"pimg\" src=\"1.png\" width=\"770\">\n",
    "\n",
    "Figure: Fast R-CNN architecture with RoI pooling layer highlighted. \n",
    "Source: https://arxiv.org/pdf/1504.08083.pdf\n",
    "\n",
    "As shown in the diagram, there is a Fully Connected layer with a fixed size right after the RoI Pooling Layer.\n",
    "The RPN algorithm generates RoIs of different sizes. For this reason, it is required to convert them into the same size.\n",
    "This process is done by applying max pooling operation during RoI pooling.\n",
    "\n",
    "Suppose that we have a mapped RoI of size 4×6×512 and we have to pool them into the size 3×3×512. We are going to choose the size 3×3×512 for our convenience, but the size might be different.\n",
    "\n",
    "<img class=\"pimg\" src=\"2.png\" width=\"670\">\n",
    "\n",
    "Figure: Mapped RoI and pooling kernel\n",
    "\n",
    "In the mapped RoI of size 4×6, 6 is divided by 3 and it gives 2, but dividing 4 by 3 left us with 1.33. After rounding up, we have a 1×2 vector. This vector will be used to pool data into 3x3x512 matrix. The following diagram shows the pooling steps. \n",
    "\n",
    "<img class=\"pimg\" src=\"3.gif\" width=\"670\">\n",
    "\n",
    "Figure: RoI pooling with 1×2 kernel\n",
    "\n",
    "Note that due to quantization, we will be loosing some data that is shown in the diagram below (last highlighted row).\n",
    "\n",
    "<img class=\"pimg\" src=\"4.png\" width=\"370\">\n",
    "\n",
    "Figure: Data loss due to quantization\n",
    "\n",
    "After RoI pooling is done, we have the input of known and fixed size of 3x3x512. So, we can feed it into the FC layers for further processing.\n"
   ]
  },
  {
   "cell_type": "markdown",
   "id": "feab3672-7ecd-4870-86c1-0f816cd87fa9",
   "metadata": {},
   "source": [
    "### Implementation of RoI Pooling:"
   ]
  },
  {
   "cell_type": "code",
   "execution_count": 1,
   "id": "23868d32-783c-48a7-9622-8f26f9139fd7",
   "metadata": {},
   "outputs": [
    {
     "name": "stdout",
     "output_type": "stream",
     "text": [
      "\n"
     ]
    }
   ],
   "source": [
    "import numpy as np\n",
    "import tensorflow as tf\n",
    "from tensorflow.keras.layers import Layer\n",
    "import os"
   ]
  },
  {
   "cell_type": "code",
   "execution_count": 3,
   "id": "dd818989-a21f-4fa6-bf6a-8f8509e90c11",
   "metadata": {},
   "outputs": [
    {
     "name": "stdout",
     "output_type": "stream",
     "text": [
      "\n"
     ]
    }
   ],
   "source": [
    "class RoIPoolingLayer(Layer):\n",
    "    def __init__(self, _height_, _width_, **kwargs):\n",
    "        \"\"\"\n",
    "        params:\n",
    "            _height_: int\n",
    "            _width_: int\n",
    "        \"\"\"\n",
    "        self._height_ = _height_\n",
    "        self._width_ = _width_\n",
    "        \n",
    "        super(RoIPoolingLayer, self).__init__(**kwargs)\n",
    "\n",
    "\n",
    "    def call(self, x):\n",
    "        \"\"\" Maps the input tensor of the ROI layer to its output\n",
    "        this function computes the pooled area\n",
    "        the element in 0th index in the parameter x is feature map tensor with shape (batch_size, _height_, _width_, n_channels)\n",
    "        and the element in 1th index in the parameter x is roi bounding box items with shape (batch_size, num_rois, 4)\n",
    "        each region of interest is defined by four relative coordinates (x_min, y_min, x_max, y_max) between 0 and 1\n",
    "        \"\"\"\n",
    "        def pool_rois(x): \n",
    "          return RoIPoolingLayer.rois_pooling(x[0], x[1], self._height_, self._width_)\n",
    "        \n",
    "        return tf.map_fn(pool_rois, x, dtype=tf.float32)\n",
    "\n",
    "\n",
    "    @staticmethod\n",
    "    def rois_pooling(feature_map, rois, _height_, _width_):\n",
    "        \"\"\" Applies ROI pooling for a single image and varios ROIs\n",
    "        params:\n",
    "            feature_map: array\n",
    "            rois: array\n",
    "            _height_: int\n",
    "            _width_: int\n",
    "        \"\"\"\n",
    "        def pool_roi(roi): \n",
    "          return RoIPoolingLayer.roi_pooling(feature_map, roi, _height_, _width_)\n",
    "        \n",
    "        return tf.map_fn(pool_roi, rois, dtype=tf.float32)\n",
    "        \n",
    "    \n",
    "    @staticmethod\n",
    "    def roi_pooling(feature_map, roi, _height_, _width_):\n",
    "        \"\"\"\n",
    "        apply roi pooling to a single mapped roi\n",
    "        params:\n",
    "            feature_map: array\n",
    "            roi: array\n",
    "            _height_: int\n",
    "            _width_: int\n",
    "\n",
    "        return:\n",
    "            pooled_features: array\n",
    "        \"\"\"\n",
    "\n",
    "        # compute roi    \n",
    "        feature_map_height = int(feature_map.shape[0])\n",
    "        feature_map_width  = int(feature_map.shape[1])\n",
    "        \n",
    "        h_start = tf.cast(feature_map_height * roi[0], 'int32')\n",
    "        w_start = tf.cast(feature_map_width  * roi[1], 'int32')\n",
    "        h_end   = tf.cast(feature_map_height * roi[2], 'int32')\n",
    "        w_end   = tf.cast(feature_map_width  * roi[3], 'int32')\n",
    "        \n",
    "        region = feature_map[h_start:h_end, w_start:w_end, :]\n",
    "        \n",
    "        # divide the region into non overlapping areas\n",
    "        region_height = h_end - h_start\n",
    "        region_width  = w_end - w_start\n",
    "        h_step = tf.cast( region_height / _height_, 'int32')\n",
    "        w_step = tf.cast( region_width  / _width_ , 'int32')\n",
    "        \n",
    "        areas = [[(\n",
    "                    i*h_step, \n",
    "                    j*w_step, \n",
    "                    (i+1)*h_step if i+1 < _height_ else region_height, \n",
    "                    (j+1)*w_step if j+1 < _width_ else region_width\n",
    "                   ) \n",
    "                   for j in range(_width_)] \n",
    "                  for i in range(_height_)]\n",
    "        \n",
    "        # take the maximum of each area and stack the result\n",
    "        def pool_area(x): \n",
    "          return tf.math.reduce_max(region[x[0]:x[2], x[1]:x[3], :], axis=[0,1])\n",
    "        \n",
    "        pooled_features = tf.stack([[pool_area(x) for x in row] for row in areas])\n",
    "        return pooled_features"
   ]
  },
  {
   "cell_type": "markdown",
   "id": "af4416c6-8a49-49a0-b913-71fbe540e734",
   "metadata": {},
   "source": [
    "#### Ref:\n",
    "\n",
    "Fast R-CNN https://arxiv.org/pdf/1504.08083.pdf\n",
    "\n",
    "https://github.com/Jsevillamol\n"
   ]
  }
 ],
 "metadata": {
  "kernelspec": {
   "display_name": "Python 3 (ipykernel)",
   "language": "python",
   "name": "python3"
  },
  "language_info": {
   "codemirror_mode": {
    "name": "ipython",
    "version": 3
   },
   "file_extension": ".py",
   "mimetype": "text/x-python",
   "name": "python",
   "nbconvert_exporter": "python",
   "pygments_lexer": "ipython3",
   "version": "3.8.3"
  }
 },
 "nbformat": 4,
 "nbformat_minor": 5
}
